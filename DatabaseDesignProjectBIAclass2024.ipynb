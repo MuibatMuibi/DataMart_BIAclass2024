{
    "metadata": {
        "kernelspec": {
            "name": "SQL",
            "display_name": "SQL",
            "language": "sql"
        },
        "language_info": {
            "name": "sql",
            "version": ""
        }
    },
    "nbformat_minor": 2,
    "nbformat": 4,
    "cells": [
        {
            "cell_type": "markdown",
            "source": [
                "nnnnnkkkkkkk"
            ],
            "metadata": {
                "azdata_cell_guid": "29b110d7-88fc-4052-b93e-9e1217c7424d"
            },
            "attachments": {}
        }
    ]
}